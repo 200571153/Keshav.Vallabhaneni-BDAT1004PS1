{
 "cells": [
  {
   "cell_type": "markdown",
   "id": "c89cee67",
   "metadata": {},
   "source": [
    "# Question 1\n",
    "What data type is each of the following (evaluate where necessary)?"
   ]
  },
  {
   "cell_type": "code",
   "execution_count": 1,
   "id": "1c309a16",
   "metadata": {},
   "outputs": [
    {
     "name": "stdout",
     "output_type": "stream",
     "text": [
      "5 is of type <class 'int'>\n",
      "5.0 is of type <class 'float'>\n",
      "True is of type <class 'bool'>\n",
      "5 is of type <class 'str'>\n",
      "10 is of type <class 'int'>\n",
      "55 is of type <class 'str'>\n",
      "52 is of type <class 'str'>\n",
      "2.5 is of type <class 'float'>\n",
      "1 is of type <class 'int'>\n",
      "{1, 2, 5} is of type <class 'set'>\n",
      "False is of type <class 'bool'>\n",
      "3.141592653589793 is of type <class 'float'>\n"
     ]
    }
   ],
   "source": [
    "import math\n",
    "\n",
    "pi_value = math.pi\n",
    "expressions = [5, 5.0, 5 > 1, '5', 5 * 2, '5' * 2, '5' + '2', 5 / 2, 5 % 2, {5, 2, 1}, 5 == 3, pi_value]\n",
    "\n",
    "for expr in expressions:\n",
    "    print(f\"{expr} is of type {type(expr)}\")"
   ]
  },
  {
   "cell_type": "markdown",
   "id": "afc12657",
   "metadata": {},
   "source": [
    "# Question 2\n",
    "Write (and evaluate) python expressions that answer these questions:\n",
    "    a. How many letters are there in 'Supercalifragilisticexpialidocious'?\n",
    "    "
   ]
  },
  {
   "cell_type": "code",
   "execution_count": 2,
   "id": "e2b741bb",
   "metadata": {},
   "outputs": [
    {
     "name": "stdout",
     "output_type": "stream",
     "text": [
      "There are 34 letters in Supercalifragilisticexpialidocious\n"
     ]
    }
   ],
   "source": [
    "word = 'Supercalifragilisticexpialidocious'\n",
    "letter_count = len(word)\n",
    "print(f\"There are {letter_count} letters in {word}\")\n"
   ]
  },
  {
   "cell_type": "markdown",
   "id": "b19f93e0",
   "metadata": {},
   "source": [
    " b. Does 'Supercalifragilisticexpialidocious' contain 'ice' as a substring?\n"
   ]
  },
  {
   "cell_type": "code",
   "execution_count": 54,
   "id": "8a782513",
   "metadata": {},
   "outputs": [
    {
     "name": "stdout",
     "output_type": "stream",
     "text": [
      "The string contains 'ice' as a substring.\n"
     ]
    }
   ],
   "source": [
    "text = 'Supercalifragilisticexpialidocious'\n",
    "\n",
    "if 'ice' in text:\n",
    "    print(\"The string contains 'ice' as a substring.\")\n",
    "else:\n",
    "    print(\"The string does not contain 'ice' as a substring.\")\n"
   ]
  },
  {
   "cell_type": "raw",
   "id": "eb1bd94c",
   "metadata": {},
   "source": [
    "c. Which of the following words is the longest:\n",
    "    Supercalifragilisticexpialidocious, Honorificabilitudinitatibus, orBababadalgharaghtakamminarronnkonn?"
   ]
  },
  {
   "cell_type": "code",
   "execution_count": 55,
   "id": "d4f47ee9",
   "metadata": {},
   "outputs": [
    {
     "name": "stdout",
     "output_type": "stream",
     "text": [
      "The longest word is: orBababadalgharaghtakamminarronnkonn\n"
     ]
    }
   ],
   "source": [
    "word1 = 'Supercalifragilisticexpialidocious'\n",
    "word2 = 'Honorificabilitudinitatibus'\n",
    "word3 = 'orBababadalgharaghtakamminarronnkonn'\n",
    "\n",
    "length1 = len(word1)\n",
    "length2 = len(word2)\n",
    "length3 = len(word3)\n",
    "\n",
    "if length1 > length2 and length1 > length3:\n",
    "    longest_word = word1\n",
    "elif length2 > length1 and length2 > length3:\n",
    "    longest_word = word2\n",
    "else:\n",
    "    longest_word = word3\n",
    "\n",
    "print(f\"The longest word is: {longest_word}\")\n"
   ]
  },
  {
   "cell_type": "raw",
   "id": "cbc65c13",
   "metadata": {},
   "source": [
    "d. Which composer comes first in the dictionary: \n",
    "    'Berlioz', 'Borodin', 'Brian','Bartok', 'Bellini', 'Buxtehude', 'Bernstein'. Which one comes last?"
   ]
  },
  {
   "cell_type": "code",
   "execution_count": 56,
   "id": "b3b5bc71",
   "metadata": {},
   "outputs": [
    {
     "name": "stdout",
     "output_type": "stream",
     "text": [
      "The first composer is: Bartok\n",
      "The last composer is: Buxtehude\n"
     ]
    }
   ],
   "source": [
    "composers = ['Berlioz', 'Borodin', 'Brian', 'Bartok', 'Bellini', 'Buxtehude', 'Bernstein']\n",
    "\n",
    "composers.sort()\n",
    "first_composer = composers[0]\n",
    "last_composer = composers[-1]\n",
    "\n",
    "print(f\"The first composer is: {first_composer}\")\n",
    "print(f\"The last composer is: {last_composer}\")\n"
   ]
  },
  {
   "cell_type": "markdown",
   "id": "dac4ec6f",
   "metadata": {},
   "source": [
    "# Question 3\n",
    "Implement function triangleArea(a,b,c) that takes as input the lengths of the 3sides of a triangle \n",
    "and returns the area of the triangle. By Heron's formula, the areaof a triangle with side lengths a, b, and c is\n",
    "s(s - a)(s - b)(s - c) , wheres = (a + b + c) /2.\n",
    "\n",
    ">>> triangleArea(2,2,2)\n",
    "1.7320508075688772"
   ]
  },
  {
   "cell_type": "code",
   "execution_count": 57,
   "id": "f0147e94",
   "metadata": {},
   "outputs": [
    {
     "name": "stdout",
     "output_type": "stream",
     "text": [
      "1.7320508075688772\n"
     ]
    }
   ],
   "source": [
    "import math\n",
    "\n",
    "def triangleArea(a, b, c):\n",
    "    s = (a + b + c) / 2\n",
    "    area = math.sqrt(s * (s - a) * (s - b) * (s - c))\n",
    "    return area\n",
    "\n",
    "result = triangleArea(2, 2, 2)\n",
    "print(result)\n"
   ]
  },
  {
   "cell_type": "markdown",
   "id": "0a7037bf",
   "metadata": {},
   "source": [
    "# Question 4\n",
    "Write a program in python to separate odd and even integers in separate arrays. \n",
    "Goto the editorTest Data :\n",
    "Input the number of elements to be stored in the array :5\n",
    "Input 5 elements in the array :\n",
    "element - 0 : 25\n",
    "element - 1 : 47\n",
    "element - 2 : 42\n",
    "element - 3 : 56\n",
    "element - 4 : 32\n",
    "Expected Output:The Even elements are:42 56 32\n",
    "The Odd elements are :25 47"
   ]
  },
  {
   "cell_type": "code",
   "execution_count": 58,
   "id": "d5235995",
   "metadata": {},
   "outputs": [
    {
     "name": "stdout",
     "output_type": "stream",
     "text": [
      "Input the number of elements to be stored in the array: 5\n",
      "Enter element - 0: 25\n",
      "Enter element - 1: 47\n",
      "Enter element - 2: 42\n",
      "Enter element - 3: 56\n",
      "Enter element - 4: 32\n",
      "The Even elements are: [42, 56, 32]\n",
      "The Odd elements are: [25, 47]\n"
     ]
    }
   ],
   "source": [
    "num_elements = int(input(\"Input the number of elements to be stored in the array: \"))\n",
    "\n",
    "even_numbers = []\n",
    "odd_numbers = []\n",
    "\n",
    "for i in range(num_elements):\n",
    "    element = int(input(f\"Enter element - {i}: \"))\n",
    "    \n",
    "    if element % 2 == 0:\n",
    "        even_numbers.append(element)\n",
    "    else:\n",
    "        odd_numbers.append(element)\n",
    "\n",
    "print(\"The Even elements are:\", even_numbers)\n",
    "print(\"The Odd elements are:\", odd_numbers)\n"
   ]
  },
  {
   "cell_type": "markdown",
   "id": "5d761ca1",
   "metadata": {},
   "source": [
    "# Question 5\n",
    "a. Write a function inside(x,y,x1,y1,x2,y2) that returns True or False depending on whether the point (x,y) lies in the rectangle with lower left corner (x1,y1) and upper right corner (x2,y2).\n",
    ">>> inside(1,1,0,0,2,3)True\n",
    ">>> inside(-1,-1,0,0,2,3)False"
   ]
  },
  {
   "cell_type": "code",
   "execution_count": 59,
   "id": "a59da8e9",
   "metadata": {},
   "outputs": [
    {
     "name": "stdout",
     "output_type": "stream",
     "text": [
      "True\n",
      "False\n"
     ]
    }
   ],
   "source": [
    "def inside(x, y, x1, y1, x2, y2):\n",
    "    if x1 <= x <= x2 and y1 <= y <= y2:\n",
    "        return True\n",
    "    else:\n",
    "        return False\n",
    "\n",
    "print(inside(1, 1, 0, 0, 2, 3))\n",
    "print(inside(-1, -1, 0, 0, 2, 3))\n"
   ]
  },
  {
   "cell_type": "raw",
   "id": "579693d5",
   "metadata": {},
   "source": [
    "b. Use function inside() from part a. to write an expression that tests whether the point (1,1) lies in both of the following rectangles: one with lower left corner (0.3, 0.5) and upper right corner (1.1, 0.7) and the other with lower left corner (0.5, 0.2) and upper right corner (1.1, 2)"
   ]
  },
  {
   "cell_type": "code",
   "execution_count": 60,
   "id": "4a703639",
   "metadata": {},
   "outputs": [
    {
     "name": "stdout",
     "output_type": "stream",
     "text": [
      "False\n",
      "True\n"
     ]
    }
   ],
   "source": [
    "print(inside(1,1,0.3,0.5,1.1,0.7))\n",
    "print(inside(1,1,0.5,0.2,1.1,2.0))"
   ]
  },
  {
   "cell_type": "markdown",
   "id": "579702d8",
   "metadata": {},
   "source": [
    "# Question 6\n",
    "You can turn a word into pig-Latin using the following two rules (simplified):\n",
    "If the word starts with a consonant, move that letter to the end and append'ay'. \n",
    "For example, 'happy' becomes 'appyhay' and 'pencil' becomes 'encilpay'.\n",
    "If the word starts with a vowel, simply append 'way' to the end of the word.\n",
    "For example, 'enter' becomes 'enterway' and 'other' becomes 'otherway' .Forour purposes, there are 5 vowels: a, e, i, o, u (so we count y as a consonant).\n",
    "Write a function pig() that takes a word (i.e., a string) as input and returns its pig-Latin form. \n",
    "Your function should still work if the input word contains upper casecharacters. Your output should always be lower case however.\n",
    ">>> pig('happy')'appyhay'\n",
    ">>> pig('Enter')'enterway"
   ]
  },
  {
   "cell_type": "code",
   "execution_count": 61,
   "id": "893f0a42",
   "metadata": {},
   "outputs": [
    {
     "name": "stdout",
     "output_type": "stream",
     "text": [
      "appyhay\n",
      "enterway\n"
     ]
    }
   ],
   "source": [
    "def pig(word):\n",
    "    word = word.lower()\n",
    "\n",
    "    vowels = 'aeiou'\n",
    "    if word[0] in vowels:\n",
    "        word = word + 'way'\n",
    "        return word\n",
    "    else:\n",
    "        word = word[1:] + word[0] + \"ay\" \n",
    "        return word\n",
    "\n",
    "print(pig('happy'))\n",
    "print(pig('Enter'))\n"
   ]
  },
  {
   "cell_type": "markdown",
   "id": "574df72e",
   "metadata": {},
   "source": [
    "# Question 7\n",
    "File bloodtype1.txt records blood-types of patients (A, B, AB, O or OO) at a clinic.\n",
    "Write a function bldcount() that reads the file with name name and reports (i.e.,prints) how many patients there are in each bloodtype.\n",
    ">>> bldcount('bloodtype.txt')\n",
    "There are 10 patients of blood type A.\n",
    "There is one patient of blood type B.\n",
    "There are 10 patients of blood type AB.\n",
    "There are 12 patients of blood type O.\n",
    "There are no patients of blood type OO."
   ]
  },
  {
   "cell_type": "code",
   "execution_count": 62,
   "id": "8aecc6eb",
   "metadata": {},
   "outputs": [
    {
     "name": "stdout",
     "output_type": "stream",
     "text": [
      "There are 15 patients of blood type A.\n",
      "There is one patient of blood type B.\n",
      "There are 13 patients of blood type AB.\n",
      "There are 15 patients of blood type O.\n",
      "There are no patients of blood type OO.\n"
     ]
    }
   ],
   "source": [
    "def bldcount(filename):\n",
    "    blood_type_counts = {'A': 0, 'B': 0, 'AB': 0, 'O': 0, 'OO': 0}\n",
    "\n",
    "    with open(filename, 'r') as file:\n",
    "        blood_types = file.read().split()\n",
    "        for blood_type in blood_types:\n",
    "            if blood_type in blood_type_counts:\n",
    "                blood_type_counts[blood_type] += 1\n",
    "\n",
    "    for blood_type, count in blood_type_counts.items():\n",
    "        if count == 1:\n",
    "            print(f\"There is one patient of blood type {blood_type}.\")\n",
    "        elif count > 1:\n",
    "            print(f\"There are {count} patients of blood type {blood_type}.\")\n",
    "        else:\n",
    "            print(f\"There are no patients of blood type {blood_type}.\")\n",
    "\n",
    "bldcount('bloodtype1.txt')\n"
   ]
  },
  {
   "cell_type": "markdown",
   "id": "6a3212cc",
   "metadata": {},
   "source": [
    "# Question 8\n",
    "Write a function curconv() that takes as input:\n",
    "1. a currency represented using a string (e.g., 'JPY' for the Japanese Yen or'EUR' for the Euro)\n",
    "2. an amountand then converts and returns the amount in US dollars.\n",
    ">>> curconv('EUR', 100)122.96544\n",
    ">>> curconv('JPY', 100)1.241401"
   ]
  },
  {
   "cell_type": "code",
   "execution_count": 63,
   "id": "f79b4a04",
   "metadata": {},
   "outputs": [
    {
     "name": "stdout",
     "output_type": "stream",
     "text": [
      "122.96544\n",
      "1.241401\n"
     ]
    }
   ],
   "source": [
    "def curconv(currency_code, amount):\n",
    "    with open(\"currencies.txt\", \"r\") as file:\n",
    "        currency_data = file.read().split()\n",
    "        index = currency_data.index(currency_code)\n",
    "        conversion_rate = float(currency_data[index + 1])\n",
    "        usd_amount = amount * conversion_rate\n",
    "        return usd_amount\n",
    "\n",
    "print(curconv('EUR', 100))\n",
    "print(curconv('JPY', 100))\n"
   ]
  },
  {
   "cell_type": "markdown",
   "id": "337280b9",
   "metadata": {},
   "source": [
    "# Question 9\n",
    "Each of the following will cause an exception (an error). Identify what type ofexception each will cause.\n",
    "\n",
    "a. Trying to add incompatible variables, as in adding 6 + ‘a’\n",
    "   --> TypeError\n",
    "   \n",
    "b. Referring to the 12th item of a list that has only 10items\n",
    "   --> IndexError: list index out of range\n",
    "   \n",
    "c. Using a value that is out of range for a function’s input, such as calling math.sqrt(-1.0)\n",
    "   --> ValueError: math domain error\n",
    "   \n",
    "d. Using an undeclared variable, such as print(x) when x has not been defined\n",
    "   --> NameError: name 'x' is not defined\n",
    "   \n",
    "e. Trying to open a file that does not exist, such as mistyping the file name or looking in the wrong directory.\n",
    "   --> FileNotFoundError: [Errno 2] No such file or directory: 'file.txt'"
   ]
  },
  {
   "cell_type": "markdown",
   "id": "4b0546d4",
   "metadata": {},
   "source": [
    "# Question 10\n",
    "Encryption is the process of hiding the meaning of a text by substituting letters in themessage with other letters, according to some system. If the process is successful, noone but the intended recipient can understand the encrypted message. Cryptanalysisrefers to attempts to undo the encryption, even if some details of the encryption areunknown (for example, if an encrypted message has been intercepted). The first stepof cryptanalysis is often to build up a table of letter frequencies in the encrypted text.Assume that the string letters is already defined as'abcdefghijklmnopqrstuvwxyz'. Write a function called frequencies()that takes a string as its only parameter, and returns a list of integers, showing thenumber of times each character appears in the text. Your function may ignore anycharacters that are not in letters.\n",
    ">>> frequencies('The quick red fox got bored and went home.')[1, 1, 1, 3, 5, 1, 1, 2, 1, 0, 1, 0, 1, 2, 4, 0, 1, 2, 0, 2,1, 0, 1, 1, 0, 0]\n",
    ">>> frequencies('apple')"
   ]
  },
  {
   "cell_type": "code",
   "execution_count": 64,
   "id": "440f59e6",
   "metadata": {},
   "outputs": [
    {
     "name": "stdout",
     "output_type": "stream",
     "text": [
      "[1, 1, 1, 3, 5, 1, 1, 2, 1, 0, 1, 0, 1, 2, 4, 0, 1, 2, 0, 3, 1, 0, 1, 1, 0, 0]\n",
      "[1, 0, 0, 0, 1, 0, 0, 0, 0, 0, 0, 1, 0, 0, 0, 2, 0, 0, 0, 0, 0, 0, 0, 0, 0, 0]\n"
     ]
    }
   ],
   "source": [
    "def frequencies(text):\n",
    "    letters = 'abcdefghijklmnopqrstuvwxyz'\n",
    "    counts = [0] * 26\n",
    "    text = text.lower()\n",
    "\n",
    "    for char in text:\n",
    "        if char in letters:\n",
    "            index = letters.index(char)\n",
    "            counts[index] += 1\n",
    "    return counts\n",
    "\n",
    "print(frequencies('The quick red fox got bored and went home.'))\n",
    "print(frequencies('apple'))\n"
   ]
  },
  {
   "cell_type": "code",
   "execution_count": null,
   "id": "f17a3126",
   "metadata": {},
   "outputs": [],
   "source": []
  }
 ],
 "metadata": {
  "kernelspec": {
   "display_name": "Python 3 (ipykernel)",
   "language": "python",
   "name": "python3"
  },
  "language_info": {
   "codemirror_mode": {
    "name": "ipython",
    "version": 3
   },
   "file_extension": ".py",
   "mimetype": "text/x-python",
   "name": "python",
   "nbconvert_exporter": "python",
   "pygments_lexer": "ipython3",
   "version": "3.11.4"
  }
 },
 "nbformat": 4,
 "nbformat_minor": 5
}
